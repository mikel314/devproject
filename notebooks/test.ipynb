{
 "cells": [
  {
   "cell_type": "markdown",
   "metadata": {},
   "source": [
    "# Testing notebooks"
   ]
  },
  {
   "cell_type": "code",
   "execution_count": 1,
   "metadata": {},
   "outputs": [
    {
     "name": "stdout",
     "output_type": "stream",
     "text": [
      "Welcome to Jupyter notebooks\n"
     ]
    }
   ],
   "source": [
    "msg = \"Welcome to Jupyter notebooks\"\n",
    "print(msg)"
   ]
  },
  {
   "cell_type": "code",
   "execution_count": 7,
   "metadata": {},
   "outputs": [],
   "source": [
    "import gspread\n",
    "import pandas as pd\n",
    "\n",
    "\n",
    "# Ruta al archivo JSON de credenciales\n",
    "cred_file = \"/home/mikel/mikelinv-1fa650952440.json\""
   ]
  },
  {
   "cell_type": "code",
   "execution_count": 2,
   "metadata": {},
   "outputs": [],
   "source": [
    "# Autenticación con Google Sheets\n",
    "gc = gspread.service_account(filename=cred_file)\n",
    "\n",
    "# Abrir el documento de Google Sheets por nombre\n",
    "spreadsheet = gc.open(\"Tracker\")"
   ]
  },
  {
   "cell_type": "code",
   "execution_count": 9,
   "metadata": {},
   "outputs": [
    {
     "name": "stdout",
     "output_type": "stream",
     "text": [
      "           Code                      Name  Status      Price Shares   Value  \\\n",
      "0       ing_nar        Cuenta Naranja ING  Activo  €9,300.00      1  €9,300   \n",
      "1           ing               Cuentas ING  Activo  €2,200.00      1  €2,200   \n",
      "2        renta4             Cuenta Renta4  Activo  €3,100.00      1  €3,100   \n",
      "3    myInvestor         Cuenta MyInvestor  Activo  €2,400.00      1  €2,400   \n",
      "4  FR0000447823  AXA TRESOR COURT TERME C   Watch  €2,590.35      0      €0   \n",
      "\n",
      "  Currency portfolio Type1  Type2 Advanced Index  ...          Isin Maturity  \\\n",
      "0                      Dep  Vista                 ...                          \n",
      "1                      Dep  Vista                 ...                          \n",
      "2                      Dep  Vista                 ...                          \n",
      "3                      Dep  Vista                 ...                          \n",
      "4                      Mon    Mon                 ...  FR0000447823            \n",
      "\n",
      "  Coupon payment Comision Spain Europe US EM Int Delta index  \n",
      "0              M    0.00%                                     \n",
      "1                   0.00%                                     \n",
      "2                   0.00%                                     \n",
      "3              M    0.00%                                     \n",
      "4                   0.05%                                     \n",
      "\n",
      "[5 rows x 24 columns]\n"
     ]
    }
   ],
   "source": [
    "# Seleccionar la pestaña (tab) por nombre\n",
    "worksheet = spreadsheet.worksheet(\"Master\")\n",
    "\n",
    "# Obtener todos los valores de la hoja\n",
    "data = worksheet.get_all_records()\n",
    "\n",
    "# Convertir a DataFrame de Pandas\n",
    "df_raw = pd.DataFrame(data)\n",
    "df_raw = df_raw.astype(str)\n",
    "print(df_raw.head())"
   ]
  },
  {
   "cell_type": "code",
   "execution_count": 10,
   "metadata": {},
   "outputs": [],
   "source": [
    "df_raw.to_parquet(\"/home/mikel/devproject/data/raw/\" + \"tracker_master.parquet\")\n",
    "# df = pd.read_parquet(\"data.parquet\", engine=\"pyarrow\")"
   ]
  },
  {
   "cell_type": "code",
   "execution_count": null,
   "metadata": {},
   "outputs": [],
   "source": [
    "df = df_raw.copy()\n",
    "df = df.astype(str)\n",
    "df[\"Price\"] = df[\"Price\"].str.replace(r\"[€,]\", \"\", regex=True)\n",
    "# df['Price'] = pd.to_numeric(df['Price'], errors='coerce')\n",
    "\n",
    "# df.info()"
   ]
  },
  {
   "cell_type": "code",
   "execution_count": null,
   "metadata": {},
   "outputs": [],
   "source": [
    "df = pd.read_parquet(\"/home/mikel/devproject/data/raw/\" + \"tracker_master_raw.parquet\")\n",
    "\n",
    "for col in [\"Price\", \"Shares\", \"Value\", \"Expected Yield\",\"Risk\",\"Comision\",\"Spain\",\"Europe\",\"US\",\"EM\",\"Int\",\"Delta index\"]:\n",
    "    df[col] = df[col].str.replace(r\"[€,%]\", \"\", regex=True)\n",
    "    df[col] = pd.to_numeric(df[col], errors='coerce')\n",
    "\n",
    "for col in [\"Expected Yield\",\"Spain\",\"Europe\",\"US\",\"EM\",\"Int\"]:\n",
    "    df[col] = df[col].fillna(0)\n",
    "\n",
    "df.to_parquet(\"/home/mikel/devproject/data/processed/\" + \"tracker_master_processed.parquet\")"
   ]
  },
  {
   "cell_type": "code",
   "execution_count": null,
   "metadata": {},
   "outputs": [],
   "source": [
    "df = pd.read_parquet(\"/home/mikel/devproject/data/processed/\" + \"tracker_master_processed.parquet\")\n",
    "\n",
    "portfolio_type1 = df.groupby('Type1')['Value'].sum() / df['Value'].sum()\n",
    "portfolio_type1 = portfolio_type1.reset_index()\n",
    "portfolio_type1.columns = ['Type1', 'Value_pct']\n",
    "print(portfolio_type1)"
   ]
  },
  {
   "cell_type": "markdown",
   "metadata": {},
   "source": []
  }
 ],
 "metadata": {
  "kernelspec": {
   "display_name": "MLenv",
   "language": "python",
   "name": "python3"
  },
  "language_info": {
   "codemirror_mode": {
    "name": "ipython",
    "version": 3
   },
   "file_extension": ".py",
   "mimetype": "text/x-python",
   "name": "python",
   "nbconvert_exporter": "python",
   "pygments_lexer": "ipython3",
   "version": "3.13.2"
  }
 },
 "nbformat": 4,
 "nbformat_minor": 2
}
