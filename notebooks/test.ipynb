{
 "cells": [
  {
   "cell_type": "markdown",
   "metadata": {},
   "source": [
    "# Testing notebooks"
   ]
  },
  {
   "cell_type": "code",
   "execution_count": 1,
   "metadata": {},
   "outputs": [
    {
     "name": "stdout",
     "output_type": "stream",
     "text": [
      "Welcome to Jupyter notebooks\n"
     ]
    }
   ],
   "source": [
    "msg = \"Welcome to Jupyter notebooks\"\n",
    "print(msg)"
   ]
  },
  {
   "cell_type": "code",
   "execution_count": null,
   "metadata": {},
   "outputs": [],
   "source": [
    "import gspread\n",
    "from oauth2client.service_account import ServiceAccountCredentials\n",
    "import pandas as pd\n",
    "\n",
    "# Define the scope\n",
    "scope = [\n",
    "    \"https://spreadsheets.google.com/feeds\",\n",
    "    \"https://www.googleapis.com/auth/drive\",\n",
    "]\n",
    "\n",
    "# Add credentials to the account\n",
    "creds = ServiceAccountCredentials.from_json_keyfile_name(\n",
    "    \"path/to/your/credentials.json\", scope\n",
    ")\n",
    "\n",
    "# Authorize the clientsheet\n",
    "client = gspread.authorize(creds)\n",
    "\n",
    "# Get the instance of the Spreadsheet\n",
    "sheet = client.open(\"your_google_sheet_name\")\n",
    "\n",
    "# Get the first sheet of the Spreadsheet\n",
    "sheet_instance = sheet.get_worksheet(0)\n",
    "\n",
    "# Get all the records of the data\n",
    "records_data = sheet_instance.get_all_records()\n",
    "\n",
    "# Convert the json to dataframe\n",
    "df = pd.DataFrame.from_dict(records_data)\n",
    "print(df)"
   ]
  },
  {
   "cell_type": "code",
   "execution_count": 1,
   "metadata": {},
   "outputs": [],
   "source": [
    "import gspread\n",
    "import pandas as pd\n",
    "\n",
    "# Ruta al archivo JSON de credenciales\n",
    "cred_file = \"/home/mikel/mikelinv-1fa650952440.json\""
   ]
  },
  {
   "cell_type": "code",
   "execution_count": 3,
   "metadata": {},
   "outputs": [],
   "source": [
    "# Autenticación con Google Sheets\n",
    "gc = gspread.service_account(filename=cred_file)\n",
    "\n",
    "# Abrir el documento de Google Sheets por nombre\n",
    "spreadsheet = gc.open(\"Tracker\")"
   ]
  },
  {
   "cell_type": "code",
   "execution_count": 10,
   "metadata": {},
   "outputs": [],
   "source": [
    "# Seleccionar la pestaña (tab) por nombre\n",
    "worksheet = spreadsheet.worksheet(\"Master\")\n",
    "\n",
    "# Obtener todos los valores de la hoja\n",
    "data = worksheet.get_all_records()\n",
    "\n",
    "# Convertir a DataFrame de Pandas\n",
    "df_raw = pd.DataFrame(data)"
   ]
  },
  {
   "cell_type": "code",
   "execution_count": null,
   "metadata": {},
   "outputs": [],
   "source": [
    "df = df_raw.copy()\n",
    "df = df.astype(str)\n",
    "df[\"Price\"] = df[\"Price\"].str.replace(r\"[€,]\", \"\", regex=True)\n",
    "# df['Price'] = pd.to_numeric(df['Price'], errors='coerce')\n",
    "\n",
    "# df.info()"
   ]
  },
  {
   "cell_type": "code",
   "execution_count": 14,
   "metadata": {},
   "outputs": [
    {
     "name": "stdout",
     "output_type": "stream",
     "text": [
      "Code                  object\n",
      "Name                  object\n",
      "Status                object\n",
      "Price                 object\n",
      "Shares                object\n",
      "Value                 object\n",
      "Currency portfolio    object\n",
      "Type1                 object\n",
      "Type2                 object\n",
      "Advanced Index        object\n",
      "Expected Yield        object\n",
      "Risk                  object\n",
      "Acc/Dist              object\n",
      "Management            object\n",
      "Isin                  object\n",
      "Maturity              object\n",
      "Coupon payment        object\n",
      "Comision              object\n",
      "Spain                 object\n",
      "Europe                object\n",
      "US                    object\n",
      "EM                    object\n",
      "Int                   object\n",
      "Delta index           object\n",
      "dtype: object\n"
     ]
    }
   ],
   "source": [
    "print(df.dtypes)"
   ]
  },
  {
   "cell_type": "markdown",
   "metadata": {},
   "source": []
  }
 ],
 "metadata": {
  "kernelspec": {
   "display_name": "MLenv",
   "language": "python",
   "name": "python3"
  },
  "language_info": {
   "codemirror_mode": {
    "name": "ipython",
    "version": 3
   },
   "file_extension": ".py",
   "mimetype": "text/x-python",
   "name": "python",
   "nbconvert_exporter": "python",
   "pygments_lexer": "ipython3",
   "version": "3.13.2"
  }
 },
 "nbformat": 4,
 "nbformat_minor": 2
}
